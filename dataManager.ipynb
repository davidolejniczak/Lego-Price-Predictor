{
 "cells": [
  {
   "cell_type": "code",
   "execution_count": 18,
   "metadata": {},
   "outputs": [],
   "source": [
    "import pandas as pd"
   ]
  },
  {
   "cell_type": "code",
   "execution_count": 20,
   "metadata": {},
   "outputs": [],
   "source": [
    "dfw = pd.read_csv('data/LegoStatsMain.csv')\n",
    "dfw['retail_price'] = dfw['retail_price'].astype(float)\n",
    "dfw['retail_price'] = (dfw['retail_price'] * 1.795).round(2) # convert to CAD from GBP\n",
    "dfw.to_csv('data/LegoStatsMain.csv', index=False)\n"
   ]
  },
  {
   "cell_type": "code",
   "execution_count": null,
   "metadata": {},
   "outputs": [],
   "source": [
    "\n",
    "\n",
    "df1 = pd.read_csv('data/LegoStatsMain.csv')\n",
    "df2 = pd.read_csv('data/LegoStatsV2.csv')\n",
    "\n",
    "df1['set_id'] = df1['set_id'].astype(str)\n",
    "df2['set_id'] = df2['set_id'].astype(str)\n",
    "\n",
    "dfMain = pd.merge(df1, df2, on='set_id',how='left')\n",
    "\n",
    "dfMain.to_csv('LegoStatsMainV2.csv', index=False)"
   ]
  },
  {
   "cell_type": "code",
   "execution_count": null,
   "metadata": {},
   "outputs": [],
   "source": [
    "df1 = pd.read_csv('data/LegoStatsMain.csv')\n",
    "df2 = pd.read_csv('data/LegoStatsV2.csv')\n",
    "\n",
    "df1['set_id'] = df1['set_id'].astype(str)\n",
    "df2['set_id'] = df2['set_id'].astype(str)\n",
    "\n",
    "dfMain = pd.merge(df1, df2, on='set_id',how='inner')\n",
    "\n",
    "dfMain.to_csv('LegoStatsMainV1.csv', index=False)"
   ]
  }
 ],
 "metadata": {
  "kernelspec": {
   "display_name": "Python 3",
   "language": "python",
   "name": "python3"
  },
  "language_info": {
   "codemirror_mode": {
    "name": "ipython",
    "version": 3
   },
   "file_extension": ".py",
   "mimetype": "text/x-python",
   "name": "python",
   "nbconvert_exporter": "python",
   "pygments_lexer": "ipython3",
   "version": "3.10.12"
  }
 },
 "nbformat": 4,
 "nbformat_minor": 2
}
