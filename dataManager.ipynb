{
 "cells": [
  {
   "cell_type": "markdown",
   "metadata": {},
   "source": [
    "Joining data sets"
   ]
  },
  {
   "cell_type": "code",
   "execution_count": 2,
   "metadata": {},
   "outputs": [],
   "source": [
    "import pandas as pd"
   ]
  },
  {
   "cell_type": "code",
   "execution_count": null,
   "metadata": {},
   "outputs": [],
   "source": [
    "df1 = pd.read_csv('data/LegoStatsMain.csv')\n",
    "df2 = pd.read_csv('data/LegoStatsV2.csv')\n",
    "\n",
    "df1['set_id'] = df1['set_id'].astype(str)\n",
    "df2['set_id'] = df2['set_id'].astype(str)\n",
    "\n",
    "dfMain = pd.merge(df1, df2, on='set_id',how='left')\n",
    "\n",
    "dfMain.to_csv('LegoStatsMainV2.csv', index=False)"
   ]
  },
  {
   "cell_type": "code",
   "execution_count": null,
   "metadata": {},
   "outputs": [],
   "source": [
    "df1 = pd.read_csv('data/LegoStatsMain.csv')\n",
    "df2 = pd.read_csv('data/LegoStatsV2.csv')\n",
    "\n",
    "df1['set_id'] = df1['set_id'].astype(str)\n",
    "df2['set_id'] = df2['set_id'].astype(str)\n",
    "\n",
    "dfMain = pd.merge(df1, df2, on='set_id',how='inner')\n",
    "\n",
    "dfMain.to_csv('LegoStatsMainV1.csv', index=False)"
   ]
  },
  {
   "cell_type": "markdown",
   "metadata": {},
   "source": [
    "Coverting GBP to CAD"
   ]
  },
  {
   "cell_type": "code",
   "execution_count": 3,
   "metadata": {},
   "outputs": [],
   "source": [
    "dfw = pd.read_csv('data/LegoStatsMainV1.csv')\n",
    "dfw['retail_price'] = dfw['retail_price'].astype(float)\n",
    "dfw['retail_price'] = (dfw['retail_price'] * 1.795).round(2) # convert to CAD from GBP\n",
    "dfw['retire_price'] = dfw['retire_price'].astype(float)\n",
    "dfw['retail_price'] = (dfw['retail_price'] * 1.795).round(2)\n",
    "dfw['pop_price'] = dfw['pop_price'].astype(float)\n",
    "dfw['pop_price'] = (dfw['pop_price'] * 1.795).round(2)\n",
    "\n",
    "dfw.to_csv('data/LegoStatsMainV1.csv', index=False)\n"
   ]
  },
  {
   "cell_type": "code",
   "execution_count": 4,
   "metadata": {},
   "outputs": [],
   "source": [
    "dfw = pd.read_csv('data/LegoStatsMainV2.csv')\n",
    "dfw['retail_price'] = dfw['retail_price'].astype(float)\n",
    "dfw['retail_price'] = (dfw['retail_price'] * 1.795).round(2) # convert to CAD from GBP\n",
    "dfw['retire_price'] = dfw['retire_price'].astype(float)\n",
    "dfw['retail_price'] = (dfw['retail_price'] * 1.795).round(2)\n",
    "dfw['pop_price'] = dfw['pop_price'].astype(float)\n",
    "dfw['pop_price'] = (dfw['pop_price'] * 1.795).round(2)\n",
    "\n",
    "dfw.to_csv('data/LegoStatsMainV2.csv', index=False)"
   ]
  },
  {
   "cell_type": "markdown",
   "metadata": {},
   "source": [
    "Removing unnecessary columns "
   ]
  },
  {
   "cell_type": "code",
   "execution_count": 14,
   "metadata": {},
   "outputs": [],
   "source": [
    "df2 = pd.read_csv('data/LegoStatsMainV2.csv')\n",
    "df2 = df2[(df2['country'] == 'CA') | (df2['country'].isnull()) | (df2['country'] == '')]\n",
    "df2 = df2.drop('raw_price', axis=1)\n",
    "df2 = df2.drop('mean_price', axis=1)\n",
    "df2 = df2.drop('piece_count', axis=1)\n",
    "df2 = df2.drop('set_name_y', axis=1)\n",
    "df2 = df2.drop('theme_id', axis=1)\n",
    "df2 = df2.drop('parts', axis=1)\n",
    "df2 = df2.drop('review_difficulty', axis=1)\n",
    "df2 = df2.drop('theme_name', axis=1)\n",
    "df2 = df2.drop('star_rating', axis=1)\n",
    "df2 = df2.drop('val_star_rating',axis=1)\n",
    "df2 = df2.drop('play_star_rating', axis=1)\n",
    "df2 = df2.drop('list_price', axis=1)\n",
    "df2 = df2.drop('year', axis=1)\n",
    "df2 = df2.drop('country', axis=1) \n",
    "df2 = df2.drop('ages', axis=1)\n",
    "df2 = df2.drop('num_reviews', axis=1)\n",
    "df2 = df2.loc[:, ~df2.columns.str.contains('^Unnamed')]\n",
    "df2.to_csv('data/LegoStatsMainV2.csv', index=False)"
   ]
  },
  {
   "cell_type": "code",
   "execution_count": 13,
   "metadata": {},
   "outputs": [],
   "source": [
    "df1 = pd.read_csv('data/LegoStatsMainV1.csv')\n",
    "df1 = df1[df1['country'] == 'CA']\n",
    "df1 = df1.drop('raw_price', axis=1)\n",
    "df1 = df1.drop('mean_price', axis=1)\n",
    "df1 = df1.drop('piece_count', axis=1)\n",
    "df1 = df1.drop('set_name_y', axis=1)\n",
    "df1 = df1.drop('theme_id', axis=1)\n",
    "df1 = df1.drop('parts', axis=1)\n",
    "df1 = df1.drop('review_difficulty', axis=1)\n",
    "df1 = df1.drop('theme_name', axis=1)    \n",
    "df1 = df1.drop('star_rating', axis=1)\n",
    "df1 = df1.drop('val_star_rating',axis=1)\n",
    "df1 = df1.drop('play_star_rating', axis=1)\n",
    "df1 = df1.drop('list_price', axis=1)\n",
    "df1 = df1.drop('year', axis=1) \n",
    "df1 = df1.loc[:, ~df1.columns.str.contains('^Unnamed')]\n",
    "df1.to_csv('data/LegoStatsMainV1.csv', index=False)"
   ]
  },
  {
   "cell_type": "markdown",
   "metadata": {},
   "source": [
    "Remove duplicates "
   ]
  },
  {
   "cell_type": "code",
   "execution_count": 16,
   "metadata": {},
   "outputs": [],
   "source": [
    "df1 = df1.drop_duplicates(keep='first') \n",
    "df2 = df2.drop_duplicates(keep='first') \n",
    "df1.to_csv('data/LegoStatsMainV1.csv', index=False)\n",
    "df2.to_csv('data/LegoStatsMainV2.csv', index=False)"
   ]
  },
  {
   "cell_type": "markdown",
   "metadata": {},
   "source": [
    "Fill in Missing values "
   ]
  },
  {
   "cell_type": "code",
   "execution_count": 20,
   "metadata": {},
   "outputs": [],
   "source": [
    "df1['num_reviews'] = (df1['num_reviews'].fillna(df1['num_reviews'].mean())).round(0)\n",
    "df1.to_csv('data/LegoStatsMainV1.csv', index=False)"
   ]
  }
 ],
 "metadata": {
  "kernelspec": {
   "display_name": "Python 3",
   "language": "python",
   "name": "python3"
  },
  "language_info": {
   "codemirror_mode": {
    "name": "ipython",
    "version": 3
   },
   "file_extension": ".py",
   "mimetype": "text/x-python",
   "name": "python",
   "nbconvert_exporter": "python",
   "pygments_lexer": "ipython3",
   "version": "3.10.12"
  }
 },
 "nbformat": 4,
 "nbformat_minor": 2
}
